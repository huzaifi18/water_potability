{
 "cells": [
  {
   "cell_type": "markdown",
   "id": "083480f2",
   "metadata": {},
   "source": [
    "# Import Library"
   ]
  },
  {
   "cell_type": "code",
   "execution_count": 1,
   "id": "2c84c903",
   "metadata": {},
   "outputs": [],
   "source": [
    "import numpy as np \n",
    "import pandas as pd \n",
    "\n",
    "import matplotlib.pyplot as plt\n",
    "import seaborn as sns\n",
    "\n",
    "from sklearn.model_selection import train_test_split\n",
    "from sklearn.ensemble import RandomForestClassifier\n",
    "\n",
    "from sklearn.pipeline import Pipeline\n",
    "from sklearn.compose import ColumnTransformer\n",
    "\n",
    "#!pip install jcopml # Baris ini dijalankan apabila belum memiliki library jcopml\n",
    "from jcopml.pipeline import num_pipe, cat_pipe\n",
    "from jcopml.plot import plot_missing_value"
   ]
  },
  {
   "cell_type": "markdown",
   "id": "f094e018",
   "metadata": {},
   "source": [
    "# Load Data"
   ]
  },
  {
   "cell_type": "code",
   "execution_count": 2,
   "id": "963fbd44",
   "metadata": {
    "scrolled": false
   },
   "outputs": [],
   "source": [
    "df = pd.read_csv(\"data.csv\")"
   ]
  },
  {
   "cell_type": "markdown",
   "id": "628e6ea8",
   "metadata": {},
   "source": [
    "# Menampilkan 5 baris pertama pada data"
   ]
  },
  {
   "cell_type": "code",
   "execution_count": 3,
   "id": "89f06093",
   "metadata": {},
   "outputs": [
    {
     "data": {
      "text/html": [
       "<div>\n",
       "<style scoped>\n",
       "    .dataframe tbody tr th:only-of-type {\n",
       "        vertical-align: middle;\n",
       "    }\n",
       "\n",
       "    .dataframe tbody tr th {\n",
       "        vertical-align: top;\n",
       "    }\n",
       "\n",
       "    .dataframe thead th {\n",
       "        text-align: right;\n",
       "    }\n",
       "</style>\n",
       "<table border=\"1\" class=\"dataframe\">\n",
       "  <thead>\n",
       "    <tr style=\"text-align: right;\">\n",
       "      <th></th>\n",
       "      <th>ph</th>\n",
       "      <th>Hardness</th>\n",
       "      <th>Solids</th>\n",
       "      <th>Chloramines</th>\n",
       "      <th>Sulfate</th>\n",
       "      <th>Conductivity</th>\n",
       "      <th>Organic_carbon</th>\n",
       "      <th>Trihalomethanes</th>\n",
       "      <th>Turbidity</th>\n",
       "      <th>Potability</th>\n",
       "    </tr>\n",
       "  </thead>\n",
       "  <tbody>\n",
       "    <tr>\n",
       "      <th>0</th>\n",
       "      <td>NaN</td>\n",
       "      <td>204.890455</td>\n",
       "      <td>20791.318981</td>\n",
       "      <td>7.300212</td>\n",
       "      <td>368.516441</td>\n",
       "      <td>564.308654</td>\n",
       "      <td>10.379783</td>\n",
       "      <td>86.990970</td>\n",
       "      <td>2.963135</td>\n",
       "      <td>0</td>\n",
       "    </tr>\n",
       "    <tr>\n",
       "      <th>1</th>\n",
       "      <td>3.716080</td>\n",
       "      <td>129.422921</td>\n",
       "      <td>18630.057858</td>\n",
       "      <td>6.635246</td>\n",
       "      <td>NaN</td>\n",
       "      <td>592.885359</td>\n",
       "      <td>15.180013</td>\n",
       "      <td>56.329076</td>\n",
       "      <td>4.500656</td>\n",
       "      <td>0</td>\n",
       "    </tr>\n",
       "    <tr>\n",
       "      <th>2</th>\n",
       "      <td>8.099124</td>\n",
       "      <td>224.236259</td>\n",
       "      <td>19909.541732</td>\n",
       "      <td>9.275884</td>\n",
       "      <td>NaN</td>\n",
       "      <td>418.606213</td>\n",
       "      <td>16.868637</td>\n",
       "      <td>66.420093</td>\n",
       "      <td>3.055934</td>\n",
       "      <td>0</td>\n",
       "    </tr>\n",
       "    <tr>\n",
       "      <th>3</th>\n",
       "      <td>8.316766</td>\n",
       "      <td>214.373394</td>\n",
       "      <td>22018.417441</td>\n",
       "      <td>8.059332</td>\n",
       "      <td>356.886136</td>\n",
       "      <td>363.266516</td>\n",
       "      <td>18.436524</td>\n",
       "      <td>100.341674</td>\n",
       "      <td>4.628771</td>\n",
       "      <td>0</td>\n",
       "    </tr>\n",
       "    <tr>\n",
       "      <th>4</th>\n",
       "      <td>9.092223</td>\n",
       "      <td>181.101509</td>\n",
       "      <td>17978.986339</td>\n",
       "      <td>6.546600</td>\n",
       "      <td>310.135738</td>\n",
       "      <td>398.410813</td>\n",
       "      <td>11.558279</td>\n",
       "      <td>31.997993</td>\n",
       "      <td>4.075075</td>\n",
       "      <td>0</td>\n",
       "    </tr>\n",
       "  </tbody>\n",
       "</table>\n",
       "</div>"
      ],
      "text/plain": [
       "         ph    Hardness        Solids  Chloramines     Sulfate  Conductivity  \\\n",
       "0       NaN  204.890455  20791.318981     7.300212  368.516441    564.308654   \n",
       "1  3.716080  129.422921  18630.057858     6.635246         NaN    592.885359   \n",
       "2  8.099124  224.236259  19909.541732     9.275884         NaN    418.606213   \n",
       "3  8.316766  214.373394  22018.417441     8.059332  356.886136    363.266516   \n",
       "4  9.092223  181.101509  17978.986339     6.546600  310.135738    398.410813   \n",
       "\n",
       "   Organic_carbon  Trihalomethanes  Turbidity  Potability  \n",
       "0       10.379783        86.990970   2.963135           0  \n",
       "1       15.180013        56.329076   4.500656           0  \n",
       "2       16.868637        66.420093   3.055934           0  \n",
       "3       18.436524       100.341674   4.628771           0  \n",
       "4       11.558279        31.997993   4.075075           0  "
      ]
     },
     "execution_count": 3,
     "metadata": {},
     "output_type": "execute_result"
    }
   ],
   "source": [
    "df.head()"
   ]
  },
  {
   "cell_type": "markdown",
   "id": "5cc6d77c",
   "metadata": {},
   "source": [
    "# Mengidentifikasi Missing Value"
   ]
  },
  {
   "cell_type": "code",
   "execution_count": 4,
   "id": "5be2b326",
   "metadata": {},
   "outputs": [
    {
     "data": {
      "text/plain": [
       "ph                 491\n",
       "Hardness             0\n",
       "Solids               0\n",
       "Chloramines          0\n",
       "Sulfate            781\n",
       "Conductivity         0\n",
       "Organic_carbon       0\n",
       "Trihalomethanes    162\n",
       "Turbidity            0\n",
       "Potability           0\n",
       "dtype: int64"
      ]
     },
     "execution_count": 4,
     "metadata": {},
     "output_type": "execute_result"
    }
   ],
   "source": [
    "df.isna().sum()"
   ]
  },
  {
   "cell_type": "markdown",
   "id": "09966507",
   "metadata": {},
   "source": [
    "# Impute Missing Value"
   ]
  },
  {
   "cell_type": "code",
   "execution_count": 5,
   "id": "6867938e",
   "metadata": {},
   "outputs": [],
   "source": [
    "ph0 = df[df['Potability'] == 0]['ph'].mean()\n",
    "ph1 = df[df['Potability'] == 1]['ph'].mean()\n",
    "\n",
    "sulfate0 = df[df['Potability'] == 0]['Sulfate'].mean()\n",
    "sulfate1 = df[df['Potability'] == 1]['Sulfate'].mean()\n",
    "\n",
    "Trihalomethanes0 = df[df['Potability'] == 0]['Trihalomethanes'].mean()\n",
    "Trihalomethanes1 = df[df['Potability'] == 1]['Trihalomethanes'].mean()"
   ]
  },
  {
   "cell_type": "code",
   "execution_count": 6,
   "id": "27dcadf4",
   "metadata": {},
   "outputs": [],
   "source": [
    "df.loc[(df['Potability'] == 0) & (df['ph'].isna()),'ph'] = ph0\n",
    "df.loc[(df['Potability'] == 1) & (df['ph'].isna()),'ph'] = ph1\n",
    "\n",
    "df.loc[(df['Potability'] == 0) & (df['Sulfate'].isna()),'Sulfate'] = sulfate0\n",
    "df.loc[(df['Potability'] == 1) & (df['Sulfate'].isna()),'Sulfate'] = sulfate1\n",
    "\n",
    "df.loc[(df['Potability'] == 0) & (df['Trihalomethanes'].isna()),'Trihalomethanes'] = Trihalomethanes0\n",
    "df.loc[(df['Potability'] == 1) & (df['Trihalomethanes'].isna()),'Trihalomethanes'] = Trihalomethanes1"
   ]
  },
  {
   "cell_type": "code",
   "execution_count": 7,
   "id": "a1d3383a",
   "metadata": {
    "scrolled": true
   },
   "outputs": [
    {
     "data": {
      "text/plain": [
       "ph                 0\n",
       "Hardness           0\n",
       "Solids             0\n",
       "Chloramines        0\n",
       "Sulfate            0\n",
       "Conductivity       0\n",
       "Organic_carbon     0\n",
       "Trihalomethanes    0\n",
       "Turbidity          0\n",
       "Potability         0\n",
       "dtype: int64"
      ]
     },
     "execution_count": 7,
     "metadata": {},
     "output_type": "execute_result"
    }
   ],
   "source": [
    "df.isna().sum()"
   ]
  },
  {
   "cell_type": "markdown",
   "id": "6d769981",
   "metadata": {},
   "source": [
    "# Mengidentifikasi Korelasi Antar Kolom"
   ]
  },
  {
   "cell_type": "code",
   "execution_count": 8,
   "id": "18e28dca",
   "metadata": {
    "scrolled": true
   },
   "outputs": [
    {
     "data": {
      "text/html": [
       "<div>\n",
       "<style scoped>\n",
       "    .dataframe tbody tr th:only-of-type {\n",
       "        vertical-align: middle;\n",
       "    }\n",
       "\n",
       "    .dataframe tbody tr th {\n",
       "        vertical-align: top;\n",
       "    }\n",
       "\n",
       "    .dataframe thead th {\n",
       "        text-align: right;\n",
       "    }\n",
       "</style>\n",
       "<table border=\"1\" class=\"dataframe\">\n",
       "  <thead>\n",
       "    <tr style=\"text-align: right;\">\n",
       "      <th></th>\n",
       "      <th>ph</th>\n",
       "      <th>Hardness</th>\n",
       "      <th>Solids</th>\n",
       "      <th>Chloramines</th>\n",
       "      <th>Sulfate</th>\n",
       "      <th>Conductivity</th>\n",
       "      <th>Organic_carbon</th>\n",
       "      <th>Trihalomethanes</th>\n",
       "      <th>Turbidity</th>\n",
       "      <th>Potability</th>\n",
       "    </tr>\n",
       "  </thead>\n",
       "  <tbody>\n",
       "    <tr>\n",
       "      <th>ph</th>\n",
       "      <td>1.000000</td>\n",
       "      <td>0.075878</td>\n",
       "      <td>-0.081887</td>\n",
       "      <td>-0.031827</td>\n",
       "      <td>0.014785</td>\n",
       "      <td>0.017205</td>\n",
       "      <td>0.040092</td>\n",
       "      <td>0.003009</td>\n",
       "      <td>-0.036211</td>\n",
       "      <td>-0.003848</td>\n",
       "    </tr>\n",
       "    <tr>\n",
       "      <th>Hardness</th>\n",
       "      <td>0.075878</td>\n",
       "      <td>1.000000</td>\n",
       "      <td>-0.046899</td>\n",
       "      <td>-0.030054</td>\n",
       "      <td>-0.092718</td>\n",
       "      <td>-0.023915</td>\n",
       "      <td>0.003610</td>\n",
       "      <td>-0.012718</td>\n",
       "      <td>-0.014449</td>\n",
       "      <td>-0.013837</td>\n",
       "    </tr>\n",
       "    <tr>\n",
       "      <th>Solids</th>\n",
       "      <td>-0.081887</td>\n",
       "      <td>-0.046899</td>\n",
       "      <td>1.000000</td>\n",
       "      <td>-0.070148</td>\n",
       "      <td>-0.149809</td>\n",
       "      <td>0.013831</td>\n",
       "      <td>0.010242</td>\n",
       "      <td>-0.008849</td>\n",
       "      <td>0.019546</td>\n",
       "      <td>0.033743</td>\n",
       "    </tr>\n",
       "    <tr>\n",
       "      <th>Chloramines</th>\n",
       "      <td>-0.031827</td>\n",
       "      <td>-0.030054</td>\n",
       "      <td>-0.070148</td>\n",
       "      <td>1.000000</td>\n",
       "      <td>0.023490</td>\n",
       "      <td>-0.020486</td>\n",
       "      <td>-0.012653</td>\n",
       "      <td>0.016615</td>\n",
       "      <td>0.002363</td>\n",
       "      <td>0.023779</td>\n",
       "    </tr>\n",
       "    <tr>\n",
       "      <th>Sulfate</th>\n",
       "      <td>0.014785</td>\n",
       "      <td>-0.092718</td>\n",
       "      <td>-0.149809</td>\n",
       "      <td>0.023490</td>\n",
       "      <td>1.000000</td>\n",
       "      <td>-0.014196</td>\n",
       "      <td>0.027403</td>\n",
       "      <td>-0.025797</td>\n",
       "      <td>-0.009523</td>\n",
       "      <td>-0.026957</td>\n",
       "    </tr>\n",
       "    <tr>\n",
       "      <th>Conductivity</th>\n",
       "      <td>0.017205</td>\n",
       "      <td>-0.023915</td>\n",
       "      <td>0.013831</td>\n",
       "      <td>-0.020486</td>\n",
       "      <td>-0.014196</td>\n",
       "      <td>1.000000</td>\n",
       "      <td>0.020966</td>\n",
       "      <td>0.001238</td>\n",
       "      <td>0.005798</td>\n",
       "      <td>-0.008128</td>\n",
       "    </tr>\n",
       "    <tr>\n",
       "      <th>Organic_carbon</th>\n",
       "      <td>0.040092</td>\n",
       "      <td>0.003610</td>\n",
       "      <td>0.010242</td>\n",
       "      <td>-0.012653</td>\n",
       "      <td>0.027403</td>\n",
       "      <td>0.020966</td>\n",
       "      <td>1.000000</td>\n",
       "      <td>-0.012944</td>\n",
       "      <td>-0.027308</td>\n",
       "      <td>-0.030001</td>\n",
       "    </tr>\n",
       "    <tr>\n",
       "      <th>Trihalomethanes</th>\n",
       "      <td>0.003009</td>\n",
       "      <td>-0.012718</td>\n",
       "      <td>-0.008849</td>\n",
       "      <td>0.016615</td>\n",
       "      <td>-0.025797</td>\n",
       "      <td>0.001238</td>\n",
       "      <td>-0.012944</td>\n",
       "      <td>1.000000</td>\n",
       "      <td>-0.021540</td>\n",
       "      <td>0.007305</td>\n",
       "    </tr>\n",
       "    <tr>\n",
       "      <th>Turbidity</th>\n",
       "      <td>-0.036211</td>\n",
       "      <td>-0.014449</td>\n",
       "      <td>0.019546</td>\n",
       "      <td>0.002363</td>\n",
       "      <td>-0.009523</td>\n",
       "      <td>0.005798</td>\n",
       "      <td>-0.027308</td>\n",
       "      <td>-0.021540</td>\n",
       "      <td>1.000000</td>\n",
       "      <td>0.001581</td>\n",
       "    </tr>\n",
       "    <tr>\n",
       "      <th>Potability</th>\n",
       "      <td>-0.003848</td>\n",
       "      <td>-0.013837</td>\n",
       "      <td>0.033743</td>\n",
       "      <td>0.023779</td>\n",
       "      <td>-0.026957</td>\n",
       "      <td>-0.008128</td>\n",
       "      <td>-0.030001</td>\n",
       "      <td>0.007305</td>\n",
       "      <td>0.001581</td>\n",
       "      <td>1.000000</td>\n",
       "    </tr>\n",
       "  </tbody>\n",
       "</table>\n",
       "</div>"
      ],
      "text/plain": [
       "                       ph  Hardness    Solids  Chloramines   Sulfate  \\\n",
       "ph               1.000000  0.075878 -0.081887    -0.031827  0.014785   \n",
       "Hardness         0.075878  1.000000 -0.046899    -0.030054 -0.092718   \n",
       "Solids          -0.081887 -0.046899  1.000000    -0.070148 -0.149809   \n",
       "Chloramines     -0.031827 -0.030054 -0.070148     1.000000  0.023490   \n",
       "Sulfate          0.014785 -0.092718 -0.149809     0.023490  1.000000   \n",
       "Conductivity     0.017205 -0.023915  0.013831    -0.020486 -0.014196   \n",
       "Organic_carbon   0.040092  0.003610  0.010242    -0.012653  0.027403   \n",
       "Trihalomethanes  0.003009 -0.012718 -0.008849     0.016615 -0.025797   \n",
       "Turbidity       -0.036211 -0.014449  0.019546     0.002363 -0.009523   \n",
       "Potability      -0.003848 -0.013837  0.033743     0.023779 -0.026957   \n",
       "\n",
       "                 Conductivity  Organic_carbon  Trihalomethanes  Turbidity  \\\n",
       "ph                   0.017205        0.040092         0.003009  -0.036211   \n",
       "Hardness            -0.023915        0.003610        -0.012718  -0.014449   \n",
       "Solids               0.013831        0.010242        -0.008849   0.019546   \n",
       "Chloramines         -0.020486       -0.012653         0.016615   0.002363   \n",
       "Sulfate             -0.014196        0.027403        -0.025797  -0.009523   \n",
       "Conductivity         1.000000        0.020966         0.001238   0.005798   \n",
       "Organic_carbon       0.020966        1.000000        -0.012944  -0.027308   \n",
       "Trihalomethanes      0.001238       -0.012944         1.000000  -0.021540   \n",
       "Turbidity            0.005798       -0.027308        -0.021540   1.000000   \n",
       "Potability          -0.008128       -0.030001         0.007305   0.001581   \n",
       "\n",
       "                 Potability  \n",
       "ph                -0.003848  \n",
       "Hardness          -0.013837  \n",
       "Solids             0.033743  \n",
       "Chloramines        0.023779  \n",
       "Sulfate           -0.026957  \n",
       "Conductivity      -0.008128  \n",
       "Organic_carbon    -0.030001  \n",
       "Trihalomethanes    0.007305  \n",
       "Turbidity          0.001581  \n",
       "Potability         1.000000  "
      ]
     },
     "execution_count": 8,
     "metadata": {},
     "output_type": "execute_result"
    }
   ],
   "source": [
    "df.corr()"
   ]
  },
  {
   "cell_type": "code",
   "execution_count": 9,
   "id": "3b7c9570",
   "metadata": {},
   "outputs": [
    {
     "data": {
      "text/plain": [
       "<AxesSubplot:>"
      ]
     },
     "execution_count": 9,
     "metadata": {},
     "output_type": "execute_result"
    },
    {
     "data": {
      "image/png": "[encoded data removed]",
      "text/plain": [
       "<Figure size 720x720 with 2 Axes>"
      ]
     },
     "metadata": {
      "needs_background": "light"
     },
     "output_type": "display_data"
    }
   ],
   "source": [
    "plt.figure(figsize=(10,10))\n",
    "sns.heatmap(df.corr(), cbar=True, vmin=-1, vmax=1, annot=True, square=True, fmt=\".3f\")"
   ]
  },
  {
   "cell_type": "markdown",
   "id": "8b99bc4e",
   "metadata": {},
   "source": [
    "# Mengidentifikasi Summary dari dataset"
   ]
  },
  {
   "cell_type": "code",
   "execution_count": 10,
   "id": "a924f942",
   "metadata": {},
   "outputs": [
    {
     "data": {
      "text/html": [
       "<div>\n",
       "<style scoped>\n",
       "    .dataframe tbody tr th:only-of-type {\n",
       "        vertical-align: middle;\n",
       "    }\n",
       "\n",
       "    .dataframe tbody tr th {\n",
       "        vertical-align: top;\n",
       "    }\n",
       "\n",
       "    .dataframe thead th {\n",
       "        text-align: right;\n",
       "    }\n",
       "</style>\n",
       "<table border=\"1\" class=\"dataframe\">\n",
       "  <thead>\n",
       "    <tr style=\"text-align: right;\">\n",
       "      <th></th>\n",
       "      <th>count</th>\n",
       "      <th>mean</th>\n",
       "      <th>std</th>\n",
       "      <th>min</th>\n",
       "      <th>25%</th>\n",
       "      <th>50%</th>\n",
       "      <th>75%</th>\n",
       "      <th>max</th>\n",
       "    </tr>\n",
       "  </thead>\n",
       "  <tbody>\n",
       "    <tr>\n",
       "      <th>ph</th>\n",
       "      <td>3276.0</td>\n",
       "      <td>7.080855</td>\n",
       "      <td>1.469958</td>\n",
       "      <td>0.000000</td>\n",
       "      <td>6.277673</td>\n",
       "      <td>7.085378</td>\n",
       "      <td>7.870050</td>\n",
       "      <td>14.000000</td>\n",
       "    </tr>\n",
       "    <tr>\n",
       "      <th>Hardness</th>\n",
       "      <td>3276.0</td>\n",
       "      <td>196.369496</td>\n",
       "      <td>32.879761</td>\n",
       "      <td>47.432000</td>\n",
       "      <td>176.850538</td>\n",
       "      <td>196.967627</td>\n",
       "      <td>216.667456</td>\n",
       "      <td>323.124000</td>\n",
       "    </tr>\n",
       "    <tr>\n",
       "      <th>Solids</th>\n",
       "      <td>3276.0</td>\n",
       "      <td>22014.092526</td>\n",
       "      <td>8768.570828</td>\n",
       "      <td>320.942611</td>\n",
       "      <td>15666.690297</td>\n",
       "      <td>20927.833607</td>\n",
       "      <td>27332.762127</td>\n",
       "      <td>61227.196008</td>\n",
       "    </tr>\n",
       "    <tr>\n",
       "      <th>Chloramines</th>\n",
       "      <td>3276.0</td>\n",
       "      <td>7.122277</td>\n",
       "      <td>1.583085</td>\n",
       "      <td>0.352000</td>\n",
       "      <td>6.127421</td>\n",
       "      <td>7.130299</td>\n",
       "      <td>8.114887</td>\n",
       "      <td>13.127000</td>\n",
       "    </tr>\n",
       "    <tr>\n",
       "      <th>Sulfate</th>\n",
       "      <td>3276.0</td>\n",
       "      <td>333.785123</td>\n",
       "      <td>36.145701</td>\n",
       "      <td>129.000000</td>\n",
       "      <td>317.094638</td>\n",
       "      <td>334.564290</td>\n",
       "      <td>350.385756</td>\n",
       "      <td>481.030642</td>\n",
       "    </tr>\n",
       "    <tr>\n",
       "      <th>Conductivity</th>\n",
       "      <td>3276.0</td>\n",
       "      <td>426.205111</td>\n",
       "      <td>80.824064</td>\n",
       "      <td>181.483754</td>\n",
       "      <td>365.734414</td>\n",
       "      <td>421.884968</td>\n",
       "      <td>481.792304</td>\n",
       "      <td>753.342620</td>\n",
       "    </tr>\n",
       "    <tr>\n",
       "      <th>Organic_carbon</th>\n",
       "      <td>3276.0</td>\n",
       "      <td>14.284970</td>\n",
       "      <td>3.308162</td>\n",
       "      <td>2.200000</td>\n",
       "      <td>12.065801</td>\n",
       "      <td>14.218338</td>\n",
       "      <td>16.557652</td>\n",
       "      <td>28.300000</td>\n",
       "    </tr>\n",
       "    <tr>\n",
       "      <th>Trihalomethanes</th>\n",
       "      <td>3276.0</td>\n",
       "      <td>66.395671</td>\n",
       "      <td>15.769901</td>\n",
       "      <td>0.738000</td>\n",
       "      <td>56.647656</td>\n",
       "      <td>66.303555</td>\n",
       "      <td>76.666609</td>\n",
       "      <td>124.000000</td>\n",
       "    </tr>\n",
       "    <tr>\n",
       "      <th>Turbidity</th>\n",
       "      <td>3276.0</td>\n",
       "      <td>3.966786</td>\n",
       "      <td>0.780382</td>\n",
       "      <td>1.450000</td>\n",
       "      <td>3.439711</td>\n",
       "      <td>3.955028</td>\n",
       "      <td>4.500320</td>\n",
       "      <td>6.739000</td>\n",
       "    </tr>\n",
       "    <tr>\n",
       "      <th>Potability</th>\n",
       "      <td>3276.0</td>\n",
       "      <td>0.390110</td>\n",
       "      <td>0.487849</td>\n",
       "      <td>0.000000</td>\n",
       "      <td>0.000000</td>\n",
       "      <td>0.000000</td>\n",
       "      <td>1.000000</td>\n",
       "      <td>1.000000</td>\n",
       "    </tr>\n",
       "  </tbody>\n",
       "</table>\n",
       "</div>"
      ],
      "text/plain": [
       "                  count          mean          std         min           25%  \\\n",
       "ph               3276.0      7.080855     1.469958    0.000000      6.277673   \n",
       "Hardness         3276.0    196.369496    32.879761   47.432000    176.850538   \n",
       "Solids           3276.0  22014.092526  8768.570828  320.942611  15666.690297   \n",
       "Chloramines      3276.0      7.122277     1.583085    0.352000      6.127421   \n",
       "Sulfate          3276.0    333.785123    36.145701  129.000000    317.094638   \n",
       "Conductivity     3276.0    426.205111    80.824064  181.483754    365.734414   \n",
       "Organic_carbon   3276.0     14.284970     3.308162    2.200000     12.065801   \n",
       "Trihalomethanes  3276.0     66.395671    15.769901    0.738000     56.647656   \n",
       "Turbidity        3276.0      3.966786     0.780382    1.450000      3.439711   \n",
       "Potability       3276.0      0.390110     0.487849    0.000000      0.000000   \n",
       "\n",
       "                          50%           75%           max  \n",
       "ph                   7.085378      7.870050     14.000000  \n",
       "Hardness           196.967627    216.667456    323.124000  \n",
       "Solids           20927.833607  27332.762127  61227.196008  \n",
       "Chloramines          7.130299      8.114887     13.127000  \n",
       "Sulfate            334.564290    350.385756    481.030642  \n",
       "Conductivity       421.884968    481.792304    753.342620  \n",
       "Organic_carbon      14.218338     16.557652     28.300000  \n",
       "Trihalomethanes     66.303555     76.666609    124.000000  \n",
       "Turbidity            3.955028      4.500320      6.739000  \n",
       "Potability           0.000000      1.000000      1.000000  "
      ]
     },
     "execution_count": 10,
     "metadata": {},
     "output_type": "execute_result"
    }
   ],
   "source": [
    "df.describe().T"
   ]
  },
  {
   "cell_type": "markdown",
   "id": "7777bd46",
   "metadata": {},
   "source": [
    "# Memotong dataset menjadi data train dan data test"
   ]
  },
  {
   "cell_type": "code",
   "execution_count": 11,
   "id": "05da65be",
   "metadata": {},
   "outputs": [
    {
     "name": "stdout",
     "output_type": "stream",
     "text": [
      "(3276, 9) (2620, 9) (656, 9)\n"
     ]
    }
   ],
   "source": [
    "X = df.drop('Potability', axis = 1)\n",
    "y = df['Potability']\n",
    "\n",
    "X_train, X_test, y_train, y_test = train_test_split(X, y, train_size = 0.8, shuffle = True, random_state = 1)\n",
    "print(X.shape,X_train.shape, X_test.shape)"
   ]
  },
  {
   "cell_type": "markdown",
   "id": "e0986615",
   "metadata": {},
   "source": [
    "# Pipeline"
   ]
  },
  {
   "cell_type": "code",
   "execution_count": 12,
   "id": "89053cd0",
   "metadata": {},
   "outputs": [],
   "source": [
    "from sklearn.model_selection import GridSearchCV\n",
    "from jcopml.tuning import grid_search_params as gsp"
   ]
  },
  {
   "cell_type": "code",
   "execution_count": 13,
   "id": "77dc3252",
   "metadata": {
    "scrolled": false
   },
   "outputs": [
    {
     "data": {
      "text/plain": [
       "{'algo__n_estimators': [100, 150, 200],\n",
       " 'algo__max_depth': [20, 50, 80],\n",
       " 'algo__max_features': [0.3, 0.6, 0.8],\n",
       " 'algo__min_samples_leaf': [1, 5, 10]}"
      ]
     },
     "execution_count": 13,
     "metadata": {},
     "output_type": "execute_result"
    }
   ],
   "source": [
    "#Opsi parameter yang digunakan untuk Random Forest\n",
    "gsp.rf_params"
   ]
  },
  {
   "cell_type": "markdown",
   "id": "4a2a042d",
   "metadata": {},
   "source": [
    "# Algoritma Random Forest"
   ]
  },
  {
   "cell_type": "code",
   "execution_count": 14,
   "id": "4c7ffa1b",
   "metadata": {},
   "outputs": [
    {
     "name": "stdout",
     "output_type": "stream",
     "text": [
      "Fitting 3 folds for each of 81 candidates, totalling 243 fits\n"
     ]
    },
    {
     "name": "stderr",
     "output_type": "stream",
     "text": [
      "[Parallel(n_jobs=-1)]: Using backend LokyBackend with 12 concurrent workers.\n",
      "[Parallel(n_jobs=-1)]: Done  26 tasks      | elapsed:    3.9s\n",
      "[Parallel(n_jobs=-1)]: Done 176 tasks      | elapsed:   18.6s\n",
      "[Parallel(n_jobs=-1)]: Done 243 out of 243 | elapsed:   24.9s finished\n"
     ]
    },
    {
     "name": "stdout",
     "output_type": "stream",
     "text": [
      "{'algo__max_depth': 20, 'algo__max_features': 0.3, 'algo__min_samples_leaf': 5, 'algo__n_estimators': 100}\n",
      "0.9496183206106871 0.7908441480712588 0.7911585365853658\n"
     ]
    }
   ],
   "source": [
    "# Preprocessing Data\n",
    "preprocessor = ColumnTransformer([\n",
    "    ('numeric', num_pipe(scaling='standard'), ['ph', 'Hardness', 'Solids', 'Chloramines', 'Sulfate', 'Conductivity',\n",
    "       'Organic_carbon', 'Trihalomethanes', 'Turbidity'])\n",
    "])\n",
    "\n",
    "# Menyediakan Pipeline\n",
    "pipeline = Pipeline([\n",
    "    ('prep', preprocessor),\n",
    "    ('algo', RandomForestClassifier(n_jobs=-1, random_state=42))\n",
    "])\n",
    "\n",
    "\n",
    "#Melatih Model\n",
    "model_rf = GridSearchCV(pipeline, gsp.rf_params, cv=3, scoring='accuracy',  n_jobs=-1, verbose=1, return_train_score=True)\n",
    "model_rf.fit(X_train, y_train)\n",
    "\n",
    "print(model_rf.best_params_)\n",
    "print(model_rf.score(X_train, y_train), model_rf.best_score_, model_rf.score(X_test, y_test))\n"
   ]
  },
  {
   "cell_type": "code",
   "execution_count": 15,
   "id": "091cd5ce",
   "metadata": {},
   "outputs": [
    {
     "data": {
      "image/png": "[encoded data removed]",
      "text/plain": [
       "<Figure size 432x432 with 1 Axes>"
      ]
     },
     "metadata": {
      "needs_background": "light"
     },
     "output_type": "display_data"
    }
   ],
   "source": [
    "score_train = model_rf.score(X_train, y_train)\n",
    "score_test = model_rf.score(X_test, y_test)\n",
    "\n",
    "plt.figure(figsize=(6,6))\n",
    "plt.bar((['Train', 'Test']), (score_train, score_test), color='b')\n",
    "plt.yticks(np.arange(0,1,0.05))\n",
    "plt.ylabel('Score');\n",
    "plt.title('Accuracy Score')\n",
    "plt.savefig('plot_acc_score.png', bbox_inches='tight')"
   ]
  },
  {
   "cell_type": "code",
   "execution_count": 16,
   "id": "003a5f4e",
   "metadata": {},
   "outputs": [],
   "source": [
    "def plot_search_results(grid):\n",
    "    results = grid.cv_results_\n",
    "    means_test = results['mean_test_score']\n",
    "    stds_test = results['std_test_score']\n",
    "    means_train = results['mean_train_score']\n",
    "    stds_train = results['std_train_score']\n",
    "\n",
    "    masks=[]\n",
    "    masks_names= list(grid.best_params_.keys())\n",
    "    for p_k, p_v in grid.best_params_.items():\n",
    "        masks.append(list(results['param_'+p_k].data==p_v))\n",
    "\n",
    "    params=grid.param_grid\n",
    "\n",
    "    fig, ax = plt.subplots(1,len(params),sharex='none', sharey='all',figsize=(20,5))\n",
    "    fig.suptitle('Score per parameter')\n",
    "    fig.text(0.04, 0.5, 'MEAN SCORE', va='center', rotation='vertical')\n",
    "    pram_preformace_in_best = {}\n",
    "    for i, p in enumerate(masks_names):\n",
    "        m = np.stack(masks[:i] + masks[i+1:])\n",
    "        pram_preformace_in_best\n",
    "        best_parms_mask = m.all(axis=0)\n",
    "        best_index = np.where(best_parms_mask)[0]\n",
    "        x = np.array(params[p])\n",
    "        y_1 = np.array(means_test[best_index])\n",
    "        e_1 = np.array(stds_test[best_index])\n",
    "        y_2 = np.array(means_train[best_index])\n",
    "        e_2 = np.array(stds_train[best_index])\n",
    "        ax[i].errorbar(x, y_1, e_1, linestyle='--', marker='o', label='test')\n",
    "        ax[i].errorbar(x, y_2, e_2, linestyle='-', marker='^',label='train' )\n",
    "        ax[i].set_xlabel(p.upper())\n",
    "    \n",
    "    plt.legend()\n",
    "    plt.savefig('plot.png', bbox_inches='tight')\n",
    "    plt.show()"
   ]
  },
  {
   "cell_type": "code",
   "execution_count": 17,
   "id": "ff6ecca8",
   "metadata": {
    "scrolled": true
   },
   "outputs": [
    {
     "data": {
      "image/png": "[encoded data removed]",
      "text/plain": [
       "<Figure size 1440x360 with 4 Axes>"
      ]
     },
     "metadata": {
      "needs_background": "light"
     },
     "output_type": "display_data"
    }
   ],
   "source": [
    "plot_search_results(model_rf)"
   ]
  },
  {
   "cell_type": "markdown",
   "id": "33781ad6",
   "metadata": {},
   "source": [
    "# Menampilkan Confusion Matrix dari algoritma Random Forest"
   ]
  },
  {
   "cell_type": "code",
   "execution_count": 18,
   "id": "809a3377",
   "metadata": {
    "scrolled": true
   },
   "outputs": [
    {
     "data": {
      "image/png": "[encoded data removed]",
      "text/plain": [
       "<Figure size 792x360 with 2 Axes>"
      ]
     },
     "metadata": {
      "needs_background": "light"
     },
     "output_type": "display_data"
    }
   ],
   "source": [
    "from jcopml.plot import plot_confusion_matrix\n",
    "plot_confusion_matrix(X_train, y_train, X_test, y_test, model_rf)"
   ]
  },
  {
   "cell_type": "markdown",
   "id": "5d8da883",
   "metadata": {},
   "source": [
    "# Menampilkan recall, pecision, dan f1-score algoritma Random Forest"
   ]
  },
  {
   "cell_type": "code",
   "execution_count": 19,
   "id": "7c8c209c",
   "metadata": {
    "scrolled": true
   },
   "outputs": [
    {
     "data": {
      "image/png": "[encoded data removed]",
      "text/plain": [
       "<Figure size 792x360 with 2 Axes>"
      ]
     },
     "metadata": {
      "needs_background": "light"
     },
     "output_type": "display_data"
    }
   ],
   "source": [
    "from jcopml.plot import plot_classification_report\n",
    "plot_classification_report(X_train, y_train, X_test, y_test, model_rf)"
   ]
  },
  {
   "cell_type": "code",
   "execution_count": 20,
   "id": "2a96ca92",
   "metadata": {
    "scrolled": true
   },
   "outputs": [
    {
     "name": "stdout",
     "output_type": "stream",
     "text": [
      "Random Forest Accuracy Score = 79.12%\n"
     ]
    }
   ],
   "source": [
    "print('Random Forest Accuracy Score = {:.2f}%'.format(model_rf.score(X_test, y_test)*100))"
   ]
  },
  {
   "cell_type": "markdown",
   "id": "4cd3dcc1",
   "metadata": {},
   "source": [
    "# Prediksi"
   ]
  },
  {
   "cell_type": "code",
   "execution_count": 21,
   "id": "df3a32a2",
   "metadata": {},
   "outputs": [],
   "source": [
    "data = [[7, 120, 15000, 5, 200,300, 12, 40, 2 ],\n",
    "        [6, 120, 15000, 5, 320,300, 12, 60, 2 ],\n",
    "        [9, 200, 20000, 8, 330, 450, 15, 70, 3.7],\n",
    "        [7, 120, 15000,5, 220,300, 12, 55, 2],\n",
    "       ]\n",
    "X_pred = pd.DataFrame(data, index=[\"Air A\", \"Air B\", \"Air C\", \"Air D\"], columns=['ph', 'Hardness', 'Solids', 'Chloramines', 'Sulfate', 'Conductivity',\n",
    "       'Organic_carbon', 'Trihalomethanes', 'Turbidity'])"
   ]
  },
  {
   "cell_type": "code",
   "execution_count": 22,
   "id": "af713226",
   "metadata": {},
   "outputs": [],
   "source": [
    "X_pred[\"Kelayakan\"] = list(model_rf.predict(X_pred))\n",
    "X_pred['Kelayakan'] = X_pred.Kelayakan.map({0:'Tidak Dapat Diminum', 1:'Dapat Diminum'})"
   ]
  },
  {
   "cell_type": "code",
   "execution_count": 23,
   "id": "44fbe495",
   "metadata": {},
   "outputs": [
    {
     "data": {
      "text/html": [
       "<div>\n",
       "<style scoped>\n",
       "    .dataframe tbody tr th:only-of-type {\n",
       "        vertical-align: middle;\n",
       "    }\n",
       "\n",
       "    .dataframe tbody tr th {\n",
       "        vertical-align: top;\n",
       "    }\n",
       "\n",
       "    .dataframe thead th {\n",
       "        text-align: right;\n",
       "    }\n",
       "</style>\n",
       "<table border=\"1\" class=\"dataframe\">\n",
       "  <thead>\n",
       "    <tr style=\"text-align: right;\">\n",
       "      <th></th>\n",
       "      <th>ph</th>\n",
       "      <th>Hardness</th>\n",
       "      <th>Solids</th>\n",
       "      <th>Chloramines</th>\n",
       "      <th>Sulfate</th>\n",
       "      <th>Conductivity</th>\n",
       "      <th>Organic_carbon</th>\n",
       "      <th>Trihalomethanes</th>\n",
       "      <th>Turbidity</th>\n",
       "      <th>Kelayakan</th>\n",
       "    </tr>\n",
       "  </thead>\n",
       "  <tbody>\n",
       "    <tr>\n",
       "      <th>Air A</th>\n",
       "      <td>7</td>\n",
       "      <td>120</td>\n",
       "      <td>15000</td>\n",
       "      <td>5</td>\n",
       "      <td>200</td>\n",
       "      <td>300</td>\n",
       "      <td>12</td>\n",
       "      <td>40</td>\n",
       "      <td>2.0</td>\n",
       "      <td>Dapat Diminum</td>\n",
       "    </tr>\n",
       "    <tr>\n",
       "      <th>Air B</th>\n",
       "      <td>6</td>\n",
       "      <td>120</td>\n",
       "      <td>15000</td>\n",
       "      <td>5</td>\n",
       "      <td>320</td>\n",
       "      <td>300</td>\n",
       "      <td>12</td>\n",
       "      <td>60</td>\n",
       "      <td>2.0</td>\n",
       "      <td>Tidak Dapat Diminum</td>\n",
       "    </tr>\n",
       "    <tr>\n",
       "      <th>Air C</th>\n",
       "      <td>9</td>\n",
       "      <td>200</td>\n",
       "      <td>20000</td>\n",
       "      <td>8</td>\n",
       "      <td>330</td>\n",
       "      <td>450</td>\n",
       "      <td>15</td>\n",
       "      <td>70</td>\n",
       "      <td>3.7</td>\n",
       "      <td>Tidak Dapat Diminum</td>\n",
       "    </tr>\n",
       "    <tr>\n",
       "      <th>Air D</th>\n",
       "      <td>7</td>\n",
       "      <td>120</td>\n",
       "      <td>15000</td>\n",
       "      <td>5</td>\n",
       "      <td>220</td>\n",
       "      <td>300</td>\n",
       "      <td>12</td>\n",
       "      <td>55</td>\n",
       "      <td>2.0</td>\n",
       "      <td>Dapat Diminum</td>\n",
       "    </tr>\n",
       "  </tbody>\n",
       "</table>\n",
       "</div>"
      ],
      "text/plain": [
       "       ph  Hardness  Solids  Chloramines  Sulfate  Conductivity  \\\n",
       "Air A   7       120   15000            5      200           300   \n",
       "Air B   6       120   15000            5      320           300   \n",
       "Air C   9       200   20000            8      330           450   \n",
       "Air D   7       120   15000            5      220           300   \n",
       "\n",
       "       Organic_carbon  Trihalomethanes  Turbidity            Kelayakan  \n",
       "Air A              12               40        2.0        Dapat Diminum  \n",
       "Air B              12               60        2.0  Tidak Dapat Diminum  \n",
       "Air C              15               70        3.7  Tidak Dapat Diminum  \n",
       "Air D              12               55        2.0        Dapat Diminum  "
      ]
     },
     "execution_count": 23,
     "metadata": {},
     "output_type": "execute_result"
    }
   ],
   "source": [
    "X_pred"
   ]
  }
 ],
 "metadata": {
  "kernelspec": {
   "display_name": "Python [conda env:jcopml]",
   "language": "python",
   "name": "conda-env-jcopml-py"
  },
  "language_info": {
   "codemirror_mode": {
    "name": "ipython",
    "version": 3
   },
   "file_extension": ".py",
   "mimetype": "text/x-python",
   "name": "python",
   "nbconvert_exporter": "python",
   "pygments_lexer": "ipython3",
   "version": "3.7.11"
  }
 },
 "nbformat": 4,
 "nbformat_minor": 5
}
